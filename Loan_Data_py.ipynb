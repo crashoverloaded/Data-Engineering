{
  "nbformat": 4,
  "nbformat_minor": 0,
  "metadata": {
    "colab": {
      "name": "Loan_Data.py",
      "provenance": []
    },
    "kernelspec": {
      "name": "python3",
      "display_name": "Python 3"
    }
  },
  "cells": [
    {
      "cell_type": "code",
      "metadata": {
        "id": "Sz2wn0IzQIe5",
        "colab_type": "code",
        "colab": {}
      },
      "source": [
        "import numpy as np\n",
        "import pandas as pd\n",
        "import matplotlib.pyplot as plt\n",
        "\n",
        "%matplotlib inline"
      ],
      "execution_count": 0,
      "outputs": []
    },
    {
      "cell_type": "code",
      "metadata": {
        "id": "oQG17zf4RBjS",
        "colab_type": "code",
        "outputId": "648f8b0b-26c5-417c-a349-78d8aae7f789",
        "colab": {
          "base_uri": "https://localhost:8080/",
          "height": 226
        }
      },
      "source": [
        "use_cols = ['loan_amnt','int_rate','annual_inc','open_acc','loan_status','open_il_12m']\n",
        "\n",
        "data = pd.read_csv('loan.csv', usecols = use_cols).sample(10000,random_state=44)\n",
        "data.head()"
      ],
      "execution_count": 0,
      "outputs": [
        {
          "output_type": "execute_result",
          "data": {
            "text/html": [
              "<div>\n",
              "<style scoped>\n",
              "    .dataframe tbody tr th:only-of-type {\n",
              "        vertical-align: middle;\n",
              "    }\n",
              "\n",
              "    .dataframe tbody tr th {\n",
              "        vertical-align: top;\n",
              "    }\n",
              "\n",
              "    .dataframe thead th {\n",
              "        text-align: right;\n",
              "    }\n",
              "</style>\n",
              "<table border=\"1\" class=\"dataframe\">\n",
              "  <thead>\n",
              "    <tr style=\"text-align: right;\">\n",
              "      <th></th>\n",
              "      <th>loan_amnt</th>\n",
              "      <th>int_rate</th>\n",
              "      <th>annual_inc</th>\n",
              "      <th>loan_status</th>\n",
              "      <th>open_acc</th>\n",
              "      <th>open_il_12m</th>\n",
              "    </tr>\n",
              "  </thead>\n",
              "  <tbody>\n",
              "    <tr>\n",
              "      <th>104323</th>\n",
              "      <td>5000</td>\n",
              "      <td>11.55</td>\n",
              "      <td>96000.0</td>\n",
              "      <td>Current</td>\n",
              "      <td>28.0</td>\n",
              "      <td>1.0</td>\n",
              "    </tr>\n",
              "    <tr>\n",
              "      <th>116995</th>\n",
              "      <td>15000</td>\n",
              "      <td>7.84</td>\n",
              "      <td>48000.0</td>\n",
              "      <td>Current</td>\n",
              "      <td>11.0</td>\n",
              "      <td>0.0</td>\n",
              "    </tr>\n",
              "    <tr>\n",
              "      <th>82954</th>\n",
              "      <td>25000</td>\n",
              "      <td>7.84</td>\n",
              "      <td>109000.0</td>\n",
              "      <td>Current</td>\n",
              "      <td>7.0</td>\n",
              "      <td>0.0</td>\n",
              "    </tr>\n",
              "    <tr>\n",
              "      <th>112514</th>\n",
              "      <td>15000</td>\n",
              "      <td>8.46</td>\n",
              "      <td>45000.0</td>\n",
              "      <td>Current</td>\n",
              "      <td>5.0</td>\n",
              "      <td>0.0</td>\n",
              "    </tr>\n",
              "    <tr>\n",
              "      <th>84465</th>\n",
              "      <td>11000</td>\n",
              "      <td>11.55</td>\n",
              "      <td>120000.0</td>\n",
              "      <td>Current</td>\n",
              "      <td>13.0</td>\n",
              "      <td>1.0</td>\n",
              "    </tr>\n",
              "  </tbody>\n",
              "</table>\n",
              "</div>"
            ],
            "text/plain": [
              "        loan_amnt  int_rate  annual_inc loan_status  open_acc  open_il_12m\n",
              "104323       5000     11.55     96000.0     Current      28.0          1.0\n",
              "116995      15000      7.84     48000.0     Current      11.0          0.0\n",
              "82954       25000      7.84    109000.0     Current       7.0          0.0\n",
              "112514      15000      8.46     45000.0     Current       5.0          0.0\n",
              "84465       11000     11.55    120000.0     Current      13.0          1.0"
            ]
          },
          "metadata": {
            "tags": []
          },
          "execution_count": 21
        }
      ]
    },
    {
      "cell_type": "code",
      "metadata": {
        "id": "xymxcuc0UYVt",
        "colab_type": "code",
        "outputId": "62bd4588-4fa9-4ca5-bf67-1b6d07209f78",
        "colab": {
          "base_uri": "https://localhost:8080/",
          "height": 1000
        }
      },
      "source": [
        "data.loan_amnt.unique()"
      ],
      "execution_count": 0,
      "outputs": [
        {
          "output_type": "execute_result",
          "data": {
            "text/plain": [
              "array([ 5000, 15000, 25000, 11000, 19800, 30000, 10000, 20000, 31900,\n",
              "        9600, 22000, 12000, 23675, 14000, 14400, 36000, 28000,  3200,\n",
              "        3500,  6025,  7500, 18000, 35000, 25200,  6000, 40000, 16000,\n",
              "       17500,  5500, 13000, 29000, 26300,  2500,  4400,  8175,  7000,\n",
              "       24000,  9000, 26500, 10800,  4000, 28150,  8700, 23000,  9975,\n",
              "        1200, 33000,  4250,  6300, 36025, 29075,  8400, 38500,  5600,\n",
              "        8000,  1000, 17000, 21000, 22500,  6900,  8500,  3000, 26000,\n",
              "        3600, 35500, 15600,  9125,  7200, 11200, 27000, 29750,  2000,\n",
              "       17600,  9500, 30375, 16500, 39200, 23175,  6500, 22400, 19000,\n",
              "       20400,  4500,  6600, 19500, 12075, 22175,  2800,  7600, 37500,\n",
              "        5925, 27200, 38000,  2200, 13100, 22375, 29450,  7225,  6350,\n",
              "       15200, 26725, 13500, 32000,  9900, 30550, 18500, 18650,  2400,\n",
              "       15300,  5300, 30050, 12800, 12100, 19050, 21400,  7525,  6400,\n",
              "       19075, 24975, 10475,  8825,  4075,  4800, 26200,  7700, 19200,\n",
              "       38400, 19825,  7800, 14425,  7400, 10425, 17050, 10500,  5200,\n",
              "        9800,  4900,  6450, 15700, 12750, 26325, 13250, 27600, 24200,\n",
              "       16300,  1550, 11600, 27400,  3475, 10400, 11475,  9850,  3025,\n",
              "       25750, 37000,  8300, 24500,  3225,  2700,  8800, 17700, 27125,\n",
              "       13200,  5400, 24025, 23900, 14500, 24350,  1800, 15500, 12500,\n",
              "        6200, 22525, 37800, 26750,  2100, 20700, 21625,  4750,  7550,\n",
              "       25075,  8575,  1600, 20050,  2475, 30400, 11100, 11500, 11025,\n",
              "       21600,  6675, 31000, 14575, 16800, 28825, 12400,  8925, 10600,\n",
              "       11950,  1500, 15900, 39000,  2425, 16575, 11400, 17250, 27225,\n",
              "        5250, 19175, 13075, 21500,  3400, 12850,  1400,  2600, 11700,\n",
              "       17100,  8100, 28500, 10200, 26550, 23575, 37450, 21200, 18900,\n",
              "        4200, 21300, 22300, 16950, 32225,  7250, 17625, 17175, 12600,\n",
              "       20500,  3850, 20175,  5275,  6100, 17950,  1450, 16400, 16350,\n",
              "       21750,  3800,  9200, 34075, 15100,  9350,  8600, 24325, 26650,\n",
              "       24125, 27425,  7775, 34000, 34450, 25600,  8525,  3050, 21800,\n",
              "       22075, 18175, 10875, 28450, 23650, 22625, 25300, 10375, 10825,\n",
              "        2150,  5875,  8250,  7125, 28700, 27975, 28800, 36500,  8675,\n",
              "        9325,  5150, 16425, 13475, 27550, 29500, 10025, 34050,  6700,\n",
              "       23350, 20675,  1750, 31200,  3575, 13600, 17975, 15675, 20600,\n",
              "        2275,  9575, 21025, 14025, 24550, 25500, 27500,  3300, 12550,\n",
              "        3900, 30600, 16525, 34650, 23500, 15475, 33725, 29400, 13275,\n",
              "       32400, 29300, 17675,  3425, 29200, 32075, 11300, 34025, 15050,\n",
              "       12350, 13625, 30200, 13775, 33950,  9400,  4375, 35900,  8125,\n",
              "       15350, 16325, 12300, 22275, 10300,  2525, 22800, 19100, 29600,\n",
              "        1425,  6725,  6575, 18150,  8200, 36675,  6125, 34500,  1325,\n",
              "       18750, 29900,  5100, 18325, 20800, 33425, 23325,  3175,  4600,\n",
              "        2300, 23950, 15800, 16200, 30800, 11825, 13300, 13825, 32300,\n",
              "       13800, 14700, 10850,  2250, 23275, 19950, 35825, 18625,  8150,\n",
              "        5800, 12625, 20125, 28425, 10325, 14750,  8950, 17200, 22900,\n",
              "       27300, 33650, 20375, 16700, 20900, 23100,  9700,  8075,  1850,\n",
              "        5475, 25800, 37550, 18925,  7900, 32500, 15625,  3250,  5225,\n",
              "       15750, 39025, 19700, 28900,  6850,  8650, 15875, 27150, 11650,\n",
              "       15400, 29575, 28650, 19775, 30500, 15375,  8875, 28100, 25925,\n",
              "       14250, 16675, 34475, 35600, 29250, 21100, 10700,  7100, 31075,\n",
              "       14900, 29775,  3700,  5175, 23975,  4700, 35050, 38875, 18400,\n",
              "        9925, 33500, 19875, 20875, 34100, 12200, 30925, 25375, 14175,\n",
              "        1700, 32150, 10450, 20250, 14325, 22775, 18200, 14600,  8750,\n",
              "       33375,  9100, 19400, 15025, 28275, 11725, 11525, 25475, 39450,\n",
              "       35200,  5700, 28025, 10250, 14225, 22550, 38925, 25850, 21775,\n",
              "        6750,  3750, 28125,  4325, 25825, 35650, 13400, 26800, 39575,\n",
              "       19900, 10750, 35575, 32625, 22700,  5075,  4825, 11625,  6475,\n",
              "       26950, 26400, 28675,  7750, 18425,  3375, 16100,  7150, 19600,\n",
              "        4925, 38900, 31500,  4625, 11375, 31550, 37975, 24725, 37350,\n",
              "       29375, 12125,  2325, 11750, 23800,  7675, 11225, 38175, 23200,\n",
              "        4725, 17575,  4050,  6825, 16275, 16550, 18300,  5750,  8450,\n",
              "       33600,  6875, 18125, 12825, 12700,  6800, 30100, 22050, 19250,\n",
              "       17750, 22650,  5525, 10150, 16875, 37925, 12725, 32825,  4550,\n",
              "       24600, 23625, 17650,  6625,  6275,  8325,  6525, 24625, 26025,\n",
              "       12975, 32800, 27800, 12875, 22425, 13450, 17025, 18825, 14850,\n",
              "       17925, 14800, 23475, 10125, 19225,  7450, 25650, 25175, 22750,\n",
              "       34325,  8900,  3100, 15575, 30425, 39775,  3350,  6250,  7375,\n",
              "       22975, 36125, 17725, 27450, 21325, 10675, 14150, 11800,  3525,\n",
              "       26075, 16150, 28200,  4950, 18800, 23400, 11900, 38975, 22225,\n",
              "       29150, 26250,  9150])"
            ]
          },
          "metadata": {
            "tags": []
          },
          "execution_count": 25
        }
      ]
    },
    {
      "cell_type": "code",
      "metadata": {
        "id": "BfoWQlNpWtoq",
        "colab_type": "code",
        "outputId": "d7c207c4-bab1-497b-93cb-d4b2c5bb1100",
        "colab": {
          "base_uri": "https://localhost:8080/",
          "height": 312
        }
      },
      "source": [
        "fig = data.loan_amnt.hist(bins = 10)\n",
        "fig.set_title('Loan Amount Requested')\n",
        "fig.set_xlabel('Loan Amount')\n",
        "fig.set_ylabel('Number of Loans')"
      ],
      "execution_count": 0,
      "outputs": [
        {
          "output_type": "execute_result",
          "data": {
            "text/plain": [
              "Text(0, 0.5, 'Number of Loans')"
            ]
          },
          "metadata": {
            "tags": []
          },
          "execution_count": 31
        },
        {
          "output_type": "display_data",
          "data": {
            "image/png": "[encoded data removed]",
            "text/plain": [
              "<Figure size 432x288 with 1 Axes>"
            ]
          },
          "metadata": {
            "tags": []
          }
        }
      ]
    },
    {
      "cell_type": "code",
      "metadata": {
        "id": "WufmSgNCXX-w",
        "colab_type": "code",
        "outputId": "6803e721-6d15-4ae8-a24c-06072c139264",
        "colab": {
          "base_uri": "https://localhost:8080/",
          "height": 86
        }
      },
      "source": [
        "data.open_acc.dropna().unique()"
      ],
      "execution_count": 0,
      "outputs": [
        {
          "output_type": "execute_result",
          "data": {
            "text/plain": [
              "array([28., 11.,  7.,  5., 13., 38., 16.,  8., 14., 15., 10., 18., 21.,\n",
              "       24.,  9., 20., 17.,  6., 12.,  4., 22.,  2., 23., 34., 39.,  3.,\n",
              "       25., 19., 33., 26., 29., 27., 37., 31., 47., 40., 30., 32.,  1.,\n",
              "       36., 45., 48., 46., 35., 42., 43., 41.,  0., 44.])"
            ]
          },
          "metadata": {
            "tags": []
          },
          "execution_count": 34
        }
      ]
    },
    {
      "cell_type": "code",
      "metadata": {
        "id": "bRLlIsnCdGXL",
        "colab_type": "code",
        "outputId": "c5c82661-0383-4021-cb40-35d52cd19d8c",
        "colab": {
          "base_uri": "https://localhost:8080/",
          "height": 312
        }
      },
      "source": [
        "fig = data.open_acc.hist(bins = 10)\n",
        "fig.set_xlim(0,30)\n",
        "fig.set_title('Number of open accounts')\n",
        "fig.set_xlabel('Number of Open Accounts')\n",
        "fig.set_ylabel('Number of Customers')"
      ],
      "execution_count": 0,
      "outputs": [
        {
          "output_type": "execute_result",
          "data": {
            "text/plain": [
              "Text(0, 0.5, 'Number of Customers')"
            ]
          },
          "metadata": {
            "tags": []
          },
          "execution_count": 37
        },
        {
          "output_type": "display_data",
          "data": {
            "image/png": "[encoded data removed]",
            "text/plain": [
              "<Figure size 432x288 with 1 Axes>"
            ]
          },
          "metadata": {
            "tags": []
          }
        }
      ]
    },
    {
      "cell_type": "code",
      "metadata": {
        "id": "DRArVqBZdggd",
        "colab_type": "code",
        "colab": {}
      },
      "source": [
        ""
      ],
      "execution_count": 0,
      "outputs": []
    }
  ]
}